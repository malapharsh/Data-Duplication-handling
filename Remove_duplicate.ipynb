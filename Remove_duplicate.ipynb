{
 "cells": [
  {
   "cell_type": "markdown",
   "id": "29bf814b-47ef-4198-823b-16a8f8c48028",
   "metadata": {},
   "source": [
    "<h1>Remove Duplication</h1>"
   ]
  },
  {
   "cell_type": "markdown",
   "id": "43169a1d-b4ba-40ed-bee4-1d661104b320",
   "metadata": {},
   "source": [
    "<strong>Task : </strong><em>Identify and Remove duplicate values in a dataset</em>"
   ]
  },
  {
   "cell_type": "markdown",
   "id": "e56f01cc-8298-45d8-9192-936014937202",
   "metadata": {},
   "source": [
    "<h2>Import library</h2>"
   ]
  },
  {
   "cell_type": "code",
   "execution_count": 13,
   "id": "eca2d2ff-5e26-4357-91a2-a1e6ed695fc7",
   "metadata": {},
   "outputs": [],
   "source": [
    "import pandas as pd"
   ]
  },
  {
   "cell_type": "markdown",
   "id": "70e246fc-8604-4671-a3f0-7de44bf4c6c2",
   "metadata": {},
   "source": [
    "<h2>Import data</h2>"
   ]
  },
  {
   "cell_type": "code",
   "execution_count": 14,
   "id": "f27970a4-f42b-471d-b800-fe8d3ad917bf",
   "metadata": {},
   "outputs": [],
   "source": [
    "df = pd.read_csv('sample_submission.csv')"
   ]
  },
  {
   "cell_type": "code",
   "execution_count": 24,
   "id": "4b9fdb2d-473a-429a-bc77-e5ad2a151de1",
   "metadata": {},
   "outputs": [
    {
     "data": {
      "text/html": [
       "<div>\n",
       "<style scoped>\n",
       "    .dataframe tbody tr th:only-of-type {\n",
       "        vertical-align: middle;\n",
       "    }\n",
       "\n",
       "    .dataframe tbody tr th {\n",
       "        vertical-align: top;\n",
       "    }\n",
       "\n",
       "    .dataframe thead th {\n",
       "        text-align: right;\n",
       "    }\n",
       "</style>\n",
       "<table border=\"1\" class=\"dataframe\">\n",
       "  <thead>\n",
       "    <tr style=\"text-align: right;\">\n",
       "      <th></th>\n",
       "      <th>Id</th>\n",
       "      <th>SalePrice</th>\n",
       "    </tr>\n",
       "  </thead>\n",
       "  <tbody>\n",
       "    <tr>\n",
       "      <th>0</th>\n",
       "      <td>1461</td>\n",
       "      <td>169277.052498</td>\n",
       "    </tr>\n",
       "    <tr>\n",
       "      <th>1</th>\n",
       "      <td>1462</td>\n",
       "      <td>187758.393989</td>\n",
       "    </tr>\n",
       "    <tr>\n",
       "      <th>2</th>\n",
       "      <td>1463</td>\n",
       "      <td>183583.683570</td>\n",
       "    </tr>\n",
       "  </tbody>\n",
       "</table>\n",
       "</div>"
      ],
      "text/plain": [
       "     Id      SalePrice\n",
       "0  1461  169277.052498\n",
       "1  1462  187758.393989\n",
       "2  1463  183583.683570"
      ]
     },
     "execution_count": 24,
     "metadata": {},
     "output_type": "execute_result"
    }
   ],
   "source": [
    "df.head(3)"
   ]
  },
  {
   "cell_type": "code",
   "execution_count": 15,
   "id": "08e7bd08-9cd9-4484-ad42-714e171205cc",
   "metadata": {},
   "outputs": [
    {
     "data": {
      "text/plain": [
       "(1459, 2)"
      ]
     },
     "execution_count": 15,
     "metadata": {},
     "output_type": "execute_result"
    }
   ],
   "source": [
    "df.shape"
   ]
  },
  {
   "cell_type": "code",
   "execution_count": 16,
   "id": "04ee62fe-ae12-4c37-a630-09091cae31ac",
   "metadata": {},
   "outputs": [
    {
     "name": "stdout",
     "output_type": "stream",
     "text": [
      "<class 'pandas.core.frame.DataFrame'>\n",
      "RangeIndex: 1459 entries, 0 to 1458\n",
      "Data columns (total 2 columns):\n",
      " #   Column     Non-Null Count  Dtype  \n",
      "---  ------     --------------  -----  \n",
      " 0   Id         1459 non-null   int64  \n",
      " 1   SalePrice  1459 non-null   float64\n",
      "dtypes: float64(1), int64(1)\n",
      "memory usage: 22.9 KB\n"
     ]
    }
   ],
   "source": [
    "df.info()"
   ]
  },
  {
   "cell_type": "markdown",
   "id": "106a44ec-419d-4132-9053-628cda07915f",
   "metadata": {},
   "source": [
    "<h1>Identifying duplicate values</h1>"
   ]
  },
  {
   "cell_type": "code",
   "execution_count": 19,
   "id": "4a478125-384a-4b6b-ab25-082be9faee3f",
   "metadata": {},
   "outputs": [],
   "source": [
    "duplicate = df.duplicated()"
   ]
  },
  {
   "cell_type": "markdown",
   "id": "529a635a-52dc-4fae-bf5a-e25a9a4ba5ce",
   "metadata": {},
   "source": [
    "duplicate"
   ]
  },
  {
   "cell_type": "code",
   "execution_count": 23,
   "id": "40db389e-aa44-4676-afcf-a7e1db2b5297",
   "metadata": {},
   "outputs": [],
   "source": [
    "#NO duplicate values "
   ]
  },
  {
   "cell_type": "markdown",
   "id": "a82ee045-c50c-40dd-964e-c8e4f59a4f12",
   "metadata": {},
   "source": [
    "<h1>Removing duplicate values</h1>"
   ]
  },
  {
   "cell_type": "code",
   "execution_count": 25,
   "id": "b96d2741-49ae-4fd3-a90c-d67b992dea23",
   "metadata": {},
   "outputs": [],
   "source": [
    "df.drop_duplicates(inplace = True)"
   ]
  },
  {
   "cell_type": "code",
   "execution_count": 26,
   "id": "62dfeedd-8bfd-47a5-b8e7-94e65b4c4845",
   "metadata": {},
   "outputs": [
    {
     "data": {
      "text/plain": [
       "(1459, 2)"
      ]
     },
     "execution_count": 26,
     "metadata": {},
     "output_type": "execute_result"
    }
   ],
   "source": [
    "df.shape"
   ]
  },
  {
   "cell_type": "markdown",
   "id": "43e5fbab-537b-4454-a503-ef6bbc4c7f1b",
   "metadata": {},
   "source": [
    "<em>As shape of df ie imported dataset remain same after removing duplicate values , it means that no duplicate values were present</em>"
   ]
  },
  {
   "cell_type": "markdown",
   "id": "d41aaaf7-f6a1-4cb8-99b0-5ce6bedf6595",
   "metadata": {},
   "source": [
    "<strong><em>Thus, duplicate data is identified and removed succesfully from the dataset</em></strong>"
   ]
  }
 ],
 "metadata": {
  "kernelspec": {
   "display_name": "Python 3 (ipykernel)",
   "language": "python",
   "name": "python3"
  },
  "language_info": {
   "codemirror_mode": {
    "name": "ipython",
    "version": 3
   },
   "file_extension": ".py",
   "mimetype": "text/x-python",
   "name": "python",
   "nbconvert_exporter": "python",
   "pygments_lexer": "ipython3",
   "version": "3.12.2"
  },
  "widgets": {
   "application/vnd.jupyter.widget-state+json": {
    "state": {},
    "version_major": 2,
    "version_minor": 0
   }
  }
 },
 "nbformat": 4,
 "nbformat_minor": 5
}
